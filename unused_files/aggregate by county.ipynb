{
 "cells": [
  {
   "cell_type": "code",
   "execution_count": 1,
   "metadata": {
    "collapsed": false
   },
   "outputs": [],
   "source": [
    "import pandas as pd\n",
    "import psycopg2\n",
    "import matplotlib\n",
    "import numpy as np\n",
    "import os\n",
    "\n",
    "conn = psycopg2.connect(\"dbname=hmdamaster user=roellk\") #connect and return connection\n",
    "cur = conn.cursor()\n",
    "\n",
    "#property type appears in 2004\n",
    "#FIXME reload and clean 2004\n",
    "\n",
    "#set names of PostGRES HMDA data tables\n",
    "#App and Orig tables are aggregates from the LAR tables\n",
    "\n",
    "hmda_app_tables = ['county_apps_2000','county_apps_2001','county_apps_2002','county_apps_2003','county_apps_2004','county_apps_2005',\n",
    "                  'county_apps_2006','county_apps_2007','county_apps_2008','county_apps_2009','county_apps_2010','county_apps_2011',\n",
    "                  'county_apps_2012','county_apps_2013','county_apps_2014']\n",
    "\n",
    "hmda_orig_tables = ['county_orig_2000','county_orig_2001','county_orig_2002','county_orig_2003','county_orig_2004','county_orig_2005',\n",
    "                  'county_orig_2006','county_orig_2007','county_orig_2008','county_orig_2009','county_orig_2010','county_orig_2011',\n",
    "                  'county_orig_2012','county_orig_2013','county_orig_2014']\n",
    "\n",
    "hmda_lar_tables = ['hmdalar2000','hmdalar2001','hmdalar2002','hmdalar2003','hmdalar2004','hmdalar2005','hmdalar2006','hmdalar2007',\n",
    "                  'hmdalar2008','hmdalar2009','hmdalar2010','hmdalar2011','hmdalar2012','hmdalar2013','hmdalar2014']\n",
    "\n",
    "\n",
    "#count of loans\n",
    "#average and median dollar value of loans\n",
    "#loan value distribution measure\n",
    "#dollar volume of loan amount\n",
    "#demographic count, value, origination rates\n",
    "#income change\n",
    "#compare income change to value change in loan amount"
   ]
  },
  {
   "cell_type": "code",
   "execution_count": 2,
   "metadata": {
    "collapsed": false
   },
   "outputs": [],
   "source": [
    "#load tract to CBSA file to get valid counties\n",
    "cbsa_df = pd.read_csv('tract_to_CBSA_2010.csv', sep='|')\n",
    "cbsa_df.county = cbsa_df.county.map(lambda x: str(x).zfill(5)) #left pad with 0's to make valid FIPS codes\n",
    "fips_list = set(cbsa_df.county.ravel()) #remove duplicates\n"
   ]
  },
  {
   "cell_type": "code",
   "execution_count": 3,
   "metadata": {
    "collapsed": false
   },
   "outputs": [
    {
     "ename": "NameError",
     "evalue": "name 'table' is not defined",
     "output_type": "error",
     "traceback": [
      "\u001b[0;31m---------------------------------------------------------------------------\u001b[0m",
      "\u001b[0;31mNameError\u001b[0m                                 Traceback (most recent call last)",
      "\u001b[0;32m<ipython-input-3-cdbbcce92ed8>\u001b[0m in \u001b[0;36m<module>\u001b[0;34m()\u001b[0m\n\u001b[1;32m     13\u001b[0m     \u001b[0mpath\u001b[0m \u001b[0;34m=\u001b[0m \u001b[0;34m\"data/\"\u001b[0m\u001b[0;34m+\u001b[0m \u001b[0mstate\u001b[0m\u001b[0;34m+\u001b[0m\u001b[0;34m\"/\"\u001b[0m\u001b[0;34m+\u001b[0m\u001b[0mfips\u001b[0m\u001b[0;34m\u001b[0m\u001b[0m\n\u001b[1;32m     14\u001b[0m     \u001b[0;32mfor\u001b[0m \u001b[0mapp_table\u001b[0m \u001b[0;32min\u001b[0m \u001b[0mhmda_app_tables\u001b[0m\u001b[0;34m:\u001b[0m \u001b[0;31m#loop over county aggregate year tables\u001b[0m\u001b[0;34m\u001b[0m\u001b[0m\n\u001b[0;32m---> 15\u001b[0;31m         \u001b[0morig_table\u001b[0m \u001b[0;34m=\u001b[0m \u001b[0mtable\u001b[0m\u001b[0;34m[\u001b[0m\u001b[0;34m:\u001b[0m\u001b[0;36m7\u001b[0m\u001b[0;34m]\u001b[0m\u001b[0;34m+\u001b[0m\u001b[0;34m\"orig\"\u001b[0m\u001b[0;34m+\u001b[0m\u001b[0mapp_table\u001b[0m\u001b[0;34m[\u001b[0m\u001b[0mlen\u001b[0m\u001b[0;34m(\u001b[0m\u001b[0mtable\u001b[0m\u001b[0;34m)\u001b[0m\u001b[0;34m-\u001b[0m\u001b[0;36m5\u001b[0m\u001b[0;34m:\u001b[0m\u001b[0;34m]\u001b[0m \u001b[0;31m#change name of table to hmda_orig_YYYY\u001b[0m\u001b[0;34m\u001b[0m\u001b[0m\n\u001b[0m\u001b[1;32m     16\u001b[0m         SQL = \"\"\"\n\u001b[1;32m     17\u001b[0m             \u001b[0mSELECT\u001b[0m \u001b[0;34m*\u001b[0m\u001b[0;34m\u001b[0m\u001b[0m\n",
      "\u001b[0;31mNameError\u001b[0m: name 'table' is not defined"
     ]
    }
   ],
   "source": [
    "#selects application and origination information for single family homes for a single county\n",
    "#loads to data frame and writes to csv in state/county directory structure\n",
    "#writes a CSV to the base directory with all counties and all states\n",
    "#this process takes ~15 minutes to run\n",
    "\n",
    "#select data for 2000-2014\n",
    "#FIXME: create a file containing all counties for all years\n",
    "\n",
    "for fips in list(set(fips_list))[:100]:\n",
    "    first = True\n",
    "    state = fips[:2]\n",
    "    county = fips[2:]\n",
    "    path = \"data/\"+ state+\"/\"+fips\n",
    "    for app_table in hmda_app_tables: #loop over county aggregate year tables\n",
    "        orig_table = table[:7]+\"orig\"+app_table[len(table)-5:] #change name of table to hmda_orig_YYYY\n",
    "        SQL = \"\"\"\n",
    "            SELECT * \n",
    "            FROM {app_table} AS app\n",
    "            JOIN {orig_table} AS orig\n",
    "            ON app.fips = orig.fips\n",
    "            WHERE app.fips = cast({fips} AS VARCHAR(5))\n",
    "            \n",
    "            \"\"\"\n",
    "        SQL = SQL.format(app_table=app_table, orig_table=orig_table, fips=fips)\n",
    "        df = pd.read_sql_query(SQL, conn) #load query results to dataframe\n",
    "        \n",
    "        if first:\n",
    "            out_file = df #establish outfile with first year\n",
    "            first = False\n",
    "        else:\n",
    "            out_file = pd.concat([out_file, df]) #append a year to a county dataframe\n",
    "            #print df.head()\n",
    "            \n",
    "    if not os.path.exists(path): #check to see if path for a county exists\n",
    "            os.makedirs(path) #create path if it is not present\n",
    "    out_file.to_csv(path+\"/data.csv\", index=None) #write dataframe to CSV for one county in state/county/file directory structure\n",
    "        \n",
    "\n",
    "\n"
   ]
  },
  {
   "cell_type": "code",
   "execution_count": null,
   "metadata": {
    "collapsed": false
   },
   "outputs": [],
   "source": [
    "#create county files and put them in directory tree\n",
    "\n",
    "bad_counties = [] #keep a list of counties that were not valid FIPS\n",
    "good_counties = [] #make a list of valid Census counties\n",
    "\n",
    "for fips in fips_list: #FIXME change to relevant list\n",
    "    \n",
    "\n",
    "    path = \"data/\"+str(fips)[:2] + \"/\" + str(fips) #set CSV path to data/state/county format\n",
    "#    print path\n",
    "    if os.path.exists(path): #not all valid FIPS codes will have mortgage activity\n",
    "        out_df = pd.read_csv(path + \"/data.csv\")\n",
    "        out_df.head()\n",
    "        #create income multiple for single year\n",
    "        out_df['income_multiple'] = (out_df.loan_average_app / 0.80) / out_df.income_average_app\n",
    "        #create deltas for pattern building\n",
    "        out_df['loan_avg_app_delta'] = out_df.loan_average_app.pct_change()*100\n",
    "        out_df['income_average_app_delta'] = out_df.income_average_app.pct_change() *100\n",
    "        out_df['count_app_delta'] = out_df.count_app.pct_change() *100\n",
    "        out_df['value_app_delta'] = out_df.value_app.pct_change()\n",
    "        out_df['income_mult_delta'] = out_df.income_multiple.pct_change()*100\n",
    "\n",
    "        #write CSV\n",
    "        out_df.to_csv(path + '/data.csv', index=None)\n",
    "        good_counties.append(str(county))\n",
    "    else:\n",
    "        #print \"bad county: \", county, len(county)\n",
    "        bad_counties.append(county)"
   ]
  },
  {
   "cell_type": "code",
   "execution_count": null,
   "metadata": {
    "collapsed": true
   },
   "outputs": [],
   "source": []
  },
  {
   "cell_type": "code",
   "execution_count": null,
   "metadata": {
    "collapsed": true
   },
   "outputs": [],
   "source": []
  }
 ],
 "metadata": {
  "celltoolbar": "Raw Cell Format",
  "kernelspec": {
   "display_name": "Python 2",
   "language": "python",
   "name": "python2"
  },
  "language_info": {
   "codemirror_mode": {
    "name": "ipython",
    "version": 2
   },
   "file_extension": ".py",
   "mimetype": "text/x-python",
   "name": "python",
   "nbconvert_exporter": "python",
   "pygments_lexer": "ipython2",
   "version": "2.7.10"
  }
 },
 "nbformat": 4,
 "nbformat_minor": 0
}
