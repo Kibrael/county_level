{
 "cells": [
  {
   "cell_type": "code",
   "execution_count": 1,
   "metadata": {
    "collapsed": false
   },
   "outputs": [],
   "source": [
    "from bokeh.plotting import figure, output_file, show\n",
    "import json\n",
    "#import matplotlib\n",
    "#import matplotlib.pyplot as plt\n",
    "import numpy as np\n",
    "import os\n",
    "import pandas as pd\n",
    "#from pandas.tools.plotting import scatter_matrix\n",
    "\n",
    "\n"
   ]
  },
  {
   "cell_type": "code",
   "execution_count": 2,
   "metadata": {
    "collapsed": false
   },
   "outputs": [
    {
     "data": {
      "text/html": [
       "<div>\n",
       "<table border=\"1\" class=\"dataframe\">\n",
       "  <thead>\n",
       "    <tr style=\"text-align: right;\">\n",
       "      <th></th>\n",
       "      <th>year</th>\n",
       "      <th>state</th>\n",
       "      <th>county</th>\n",
       "      <th>loan_average_app</th>\n",
       "      <th>income_average_app</th>\n",
       "      <th>count_app</th>\n",
       "      <th>value_app</th>\n",
       "      <th>fips</th>\n",
       "      <th>income_multiple</th>\n",
       "    </tr>\n",
       "  </thead>\n",
       "  <tbody>\n",
       "    <tr>\n",
       "      <th>0</th>\n",
       "      <td>2000</td>\n",
       "      <td>13</td>\n",
       "      <td>005</td>\n",
       "      <td>42.91</td>\n",
       "      <td>33.63</td>\n",
       "      <td>334</td>\n",
       "      <td>14332</td>\n",
       "      <td>13005</td>\n",
       "      <td>1.594930</td>\n",
       "    </tr>\n",
       "    <tr>\n",
       "      <th>1</th>\n",
       "      <td>2000</td>\n",
       "      <td>25</td>\n",
       "      <td>025</td>\n",
       "      <td>172.26</td>\n",
       "      <td>92.79</td>\n",
       "      <td>23620</td>\n",
       "      <td>4068697</td>\n",
       "      <td>25025</td>\n",
       "      <td>2.320563</td>\n",
       "    </tr>\n",
       "    <tr>\n",
       "      <th>2</th>\n",
       "      <td>2000</td>\n",
       "      <td>55</td>\n",
       "      <td>065</td>\n",
       "      <td>61.86</td>\n",
       "      <td>45.41</td>\n",
       "      <td>422</td>\n",
       "      <td>26106</td>\n",
       "      <td>55065</td>\n",
       "      <td>1.702819</td>\n",
       "    </tr>\n",
       "    <tr>\n",
       "      <th>3</th>\n",
       "      <td>2000</td>\n",
       "      <td>38</td>\n",
       "      <td>023</td>\n",
       "      <td>28.00</td>\n",
       "      <td>43.50</td>\n",
       "      <td>6</td>\n",
       "      <td>168</td>\n",
       "      <td>38023</td>\n",
       "      <td>0.804598</td>\n",
       "    </tr>\n",
       "    <tr>\n",
       "      <th>4</th>\n",
       "      <td>2000</td>\n",
       "      <td>51</td>\n",
       "      <td>037</td>\n",
       "      <td>59.77</td>\n",
       "      <td>40.45</td>\n",
       "      <td>314</td>\n",
       "      <td>18767</td>\n",
       "      <td>51037</td>\n",
       "      <td>1.847033</td>\n",
       "    </tr>\n",
       "  </tbody>\n",
       "</table>\n",
       "</div>"
      ],
      "text/plain": [
       "   year state county  loan_average_app  income_average_app  count_app  \\\n",
       "0  2000    13    005             42.91               33.63        334   \n",
       "1  2000    25    025            172.26               92.79      23620   \n",
       "2  2000    55    065             61.86               45.41        422   \n",
       "3  2000    38    023             28.00               43.50          6   \n",
       "4  2000    51    037             59.77               40.45        314   \n",
       "\n",
       "   value_app   fips  income_multiple  \n",
       "0      14332  13005         1.594930  \n",
       "1    4068697  25025         2.320563  \n",
       "2      26106  55065         1.702819  \n",
       "3        168  38023         0.804598  \n",
       "4      18767  51037         1.847033  "
      ]
     },
     "execution_count": 2,
     "metadata": {},
     "output_type": "execute_result"
    }
   ],
   "source": [
    "#read CSV to dataframe and ensure data types\n",
    "county_df = pd.read_csv('county_aggregates.csv', dtype={'state':'str', 'county':'str'})\n",
    "county_df['fips'] = county_df.state + county_df.county\n",
    "county_df['income_multiple'] = (county_df.loan_average_app / 0.80) / county_df.income_average_app\n",
    "county_df.fips = county_df.fips.map(lambda x: str(x).zfill(5))\n",
    "county_df.drop('Unnamed: 0', inplace=True, axis = 1)\n",
    "\n",
    "#FIXME: load 1999 data to calculate diffs for 2000\n",
    "#FIXME group all XXNA to the state level and drop them from county level -- mark FIPS as NA\n",
    "county_df.head()\n"
   ]
  },
  {
   "cell_type": "code",
   "execution_count": 4,
   "metadata": {
    "collapsed": false
   },
   "outputs": [],
   "source": [
    "#import tract to CBSA file to get MSAs\n",
    "cbsa_df = pd.read_csv('tract_to_CBSA_2010.csv', sep='|')\n",
    "cbsa_df.county = cbsa_df.county.map(lambda x: str(x).zfill(5))\n",
    "fips_list = set(cbsa_df.county.ravel())\n"
   ]
  },
  {
   "cell_type": "code",
   "execution_count": 8,
   "metadata": {
    "collapsed": false
   },
   "outputs": [],
   "source": [
    "#create county files and put them in directory tree\n",
    "\n",
    "bad_counties = [] #keep a list of counties that were not valid FIPS\n",
    "good_counties = [] #make a list of valid Census counties\n",
    "\n",
    "for fips in set(county_df.fips.ravel()):\n",
    "    \n",
    "    if str(fips) in fips_list: #verify that the FIPS county code is valid\n",
    "        path = \"data/\"+str(fips)[:2] + \"/\" + str(fips) #set CSV path to data/state/county format\n",
    "        \n",
    "        if not os.path.exists(path):\n",
    "            os.makedirs(path)\n",
    "        \n",
    "        out_df = county_df[county_df.fips == fips].copy()\n",
    "        \n",
    "        #create deltas for pattern building\n",
    "        out_df['loan_avg_app_delta'] = out_df.loan_average_app.pct_change()*100\n",
    "        out_df['income_average_app_delta'] = out_df.income_average_app.pct_change() *100\n",
    "        out_df['count_app_delta'] = out_df.count_app.pct_change() *100\n",
    "        out_df['value_app_delta'] = out_df.value_app.pct_change()\n",
    "        out_df['income_mult_delta'] = out_df.income_multiple.pct_change()*100\n",
    "        \n",
    "        #write CSV\n",
    "        out_df.to_csv(path + '/data.csv', index=None)\n",
    "        good_counties.append(str(fips))\n",
    "    else:\n",
    "        #print \"bad county: \", county, len(county)\n",
    "        bad_counties.append(fips)\n"
   ]
  },
  {
   "cell_type": "code",
   "execution_count": 3,
   "metadata": {
    "collapsed": false
   },
   "outputs": [],
   "source": [
    "#for each county, make a list of years in which it has data\n",
    "county_years = {}\n",
    "for county in set(county_df.fips.ravel()):\n",
    "    single_county = county_df[county_df.fips == county].copy()\n",
    "    county_years[county] = list(single_county.year.ravel())\n",
    "    "
   ]
  },
  {
   "cell_type": "code",
   "execution_count": 4,
   "metadata": {
    "collapsed": false
   },
   "outputs": [
    {
     "ename": "NameError",
     "evalue": "name 'good_counties' is not defined",
     "output_type": "error",
     "traceback": [
      "\u001b[0;31m---------------------------------------------------------------------------\u001b[0m",
      "\u001b[0;31mNameError\u001b[0m                                 Traceback (most recent call last)",
      "\u001b[0;32m<ipython-input-4-313744a9ffdd>\u001b[0m in \u001b[0;36m<module>\u001b[0;34m()\u001b[0m\n\u001b[1;32m      4\u001b[0m \u001b[0;31m#    print county, type(county)\u001b[0m\u001b[0;34m\u001b[0m\u001b[0;34m\u001b[0m\u001b[0m\n\u001b[1;32m      5\u001b[0m     \u001b[0;32mif\u001b[0m \u001b[0mlen\u001b[0m\u001b[0;34m(\u001b[0m\u001b[0mcounty_years\u001b[0m\u001b[0;34m[\u001b[0m\u001b[0mcounty\u001b[0m\u001b[0;34m]\u001b[0m\u001b[0;34m)\u001b[0m \u001b[0;34m==\u001b[0m \u001b[0;36m15\u001b[0m\u001b[0;34m:\u001b[0m\u001b[0;34m\u001b[0m\u001b[0m\n\u001b[0;32m----> 6\u001b[0;31m         \u001b[0;32mif\u001b[0m \u001b[0mstr\u001b[0m\u001b[0;34m(\u001b[0m\u001b[0mcounty\u001b[0m\u001b[0;34m)\u001b[0m \u001b[0;32min\u001b[0m \u001b[0mgood_counties\u001b[0m\u001b[0;34m:\u001b[0m \u001b[0;31m#ensure the county is valid\u001b[0m\u001b[0;34m\u001b[0m\u001b[0m\n\u001b[0m\u001b[1;32m      7\u001b[0m             \u001b[0mcounty_all_years\u001b[0m\u001b[0;34m.\u001b[0m\u001b[0mappend\u001b[0m\u001b[0;34m(\u001b[0m\u001b[0mcounty\u001b[0m\u001b[0;34m)\u001b[0m\u001b[0;34m\u001b[0m\u001b[0m\n",
      "\u001b[0;31mNameError\u001b[0m: name 'good_counties' is not defined"
     ]
    }
   ],
   "source": [
    "#make a list of counties that have all 15 years of data to build patterns\n",
    "county_all_years = [] #list of counties with data for all 15 years\n",
    "for county in county_years.iterkeys():\n",
    "#    print county, type(county)\n",
    "    if len(county_years[county]) == 15:\n",
    "        if str(county) in good_counties: #ensure the county is valid\n",
    "            county_all_years.append(county)"
   ]
  },
  {
   "cell_type": "code",
   "execution_count": 112,
   "metadata": {
    "collapsed": false
   },
   "outputs": [],
   "source": [
    "#create JSON objects with binary patterns for each county\n",
    "#set columns for pattern building\n",
    "col_list = ['loan_avg_app_delta', 'income_average_app_delta', 'count_app_delta', 'value_app_delta', 'income_mult_delta']\n",
    "\n",
    "for county in county_all_years:\n",
    "    patterns = {} #establish dictionary to hold patterns\n",
    "    patterns['binaries'] = {} #set pattern sub category\n",
    "\n",
    "    path = \"data/\" + county[:2] + \"/\" + county #set path based on fips codes\n",
    "    patterns['fips'] = path[len(path)-5:] #set fips header\n",
    "    load_df = pd.read_csv(path + '/data.csv')\n",
    "\n",
    "    for col in col_list:\n",
    "        patterns['binaries'][col] = []\n",
    "        for item in load_df[col].ravel():\n",
    "            if item >= 0:\n",
    "                patterns['binaries'][col].append(1)\n",
    "            else:\n",
    "                patterns['binaries'][col].append(0)\n",
    "\n",
    "    with open(os.path.join(path, 'pattern.json'), 'w') as outfile:\n",
    "        json.dump(patterns, outfile, indent=4, ensure_ascii = False)\n"
   ]
  },
  {
   "cell_type": "code",
   "execution_count": 5,
   "metadata": {
    "collapsed": false
   },
   "outputs": [
    {
     "data": {
      "text/html": [
       "<div>\n",
       "<table border=\"1\" class=\"dataframe\">\n",
       "  <thead>\n",
       "    <tr style=\"text-align: right;\">\n",
       "      <th></th>\n",
       "      <th>asian_count_app</th>\n",
       "      <th>asian_count_orig</th>\n",
       "      <th>asian_income_average_app</th>\n",
       "      <th>asian_income_average_orig</th>\n",
       "      <th>asian_loan_average_app</th>\n",
       "      <th>asian_loan_average_orig</th>\n",
       "      <th>asian_value_app</th>\n",
       "      <th>asian_value_orig</th>\n",
       "      <th>black_count_app</th>\n",
       "      <th>black_count_orig</th>\n",
       "      <th>...</th>\n",
       "      <th>value_orig</th>\n",
       "      <th>white_count_app</th>\n",
       "      <th>white_count_orig</th>\n",
       "      <th>white_income_average_app</th>\n",
       "      <th>white_income_average_orig</th>\n",
       "      <th>white_loan_average_app</th>\n",
       "      <th>white_loan_average_orig</th>\n",
       "      <th>white_value_app</th>\n",
       "      <th>white_value_orig</th>\n",
       "      <th>year</th>\n",
       "    </tr>\n",
       "  </thead>\n",
       "  <tbody>\n",
       "  </tbody>\n",
       "</table>\n",
       "<p>0 rows × 58 columns</p>\n",
       "</div>"
      ],
      "text/plain": [
       "Empty DataFrame\n",
       "Columns: [asian_count_app, asian_count_orig, asian_income_average_app, asian_income_average_orig, asian_loan_average_app, asian_loan_average_orig, asian_value_app, asian_value_orig, black_count_app, black_count_orig, black_income_average_app, black_income_average_orig, black_loan_average_app, black_loan_average_orig, black_value_app, black_value_orig, count_app, count_app_delta, count_orig, county, fips, hawaiian_count_app, hawaiian_count_orig, hawaiian_income_average_app, hawaiian_income_average_orig, hawaiian_loan_average_app, hawaiian_loan_average_orig, hawaiian_value_app, hawaiian_value_orig, income_average_app, income_average_app_delta, income_average_orig, income_mult_delta, income_multiple, loan_average_app, loan_average_orig, loan_avg_app_delta, native_count_app, native_count_orig, native_income_average_app, native_income_average_orig, native_loan_average_app, native_loan_average_orig, native_value_app, native_value_orig, state, value_app, value_app_delta, value_orig, white_count_app, white_count_orig, white_income_average_app, white_income_average_orig, white_loan_average_app, white_loan_average_orig, white_value_app, white_value_orig, year]\n",
       "Index: []\n",
       "\n",
       "[0 rows x 58 columns]"
      ]
     },
     "execution_count": 5,
     "metadata": {},
     "output_type": "execute_result"
    }
   ],
   "source": [
    "#create 'vulnerable area patterns' for testing\n",
    "path = \"data/26/26163/\"\n",
    "detroit_df = pd.read_csv(path + \"data.csv\")\n",
    "path = \"data/06/06077/\"\n",
    "stockton_df = pd.read_csv(path + \"data.csv\")\n",
    "stockton_df"
   ]
  },
  {
   "cell_type": "code",
   "execution_count": 31,
   "metadata": {
    "collapsed": false
   },
   "outputs": [
    {
     "data": {
      "text/plain": [
       "(0, 130.0)"
      ]
     },
     "execution_count": 31,
     "metadata": {},
     "output_type": "execute_result"
    },
    {
     "data": {
      "image/png": "[encoded data removed]",
      "text/plain": [
       "<matplotlib.figure.Figure at 0x117a393d0>"
      ]
     },
     "metadata": {},
     "output_type": "display_data"
    }
   ],
   "source": [
    "ax = stockton_df.plot.line(x='year', y='income_average_app')\n",
    "ax.set_ylim(0)"
   ]
  },
  {
   "cell_type": "code",
   "execution_count": 271,
   "metadata": {
    "collapsed": false
   },
   "outputs": [],
   "source": [
    "patterns = {}\n",
    "patterns['binaries'] = {}\n",
    "patterns['binaries']['detroit'] = []\n",
    "patterns['binaries']['stockton'] = []\n",
    "for item in detroit_df.loan_avg_app_delta.ravel():\n",
    "    if item >= 0:\n",
    "        patterns['binaries']['detroit'].append(1)\n",
    "    else:\n",
    "        patterns['binaries']['detroit'].append(0)\n",
    "\n",
    "for item in stockton_df.loan_avg_app_delta.ravel():\n",
    "    if item >= 0:\n",
    "        patterns['binaries']['stockton'].append(1)\n",
    "    else:\n",
    "        patterns['binaries']['stockton'].append(0)\n",
    "\n"
   ]
  },
  {
   "cell_type": "code",
   "execution_count": 272,
   "metadata": {
    "collapsed": false
   },
   "outputs": [
    {
     "name": "stdout",
     "output_type": "stream",
     "text": [
      "[0, 1, 1, 1, 1, 1, 1, 1, 0, 0, 0, 0, 0, 1, 1]\n",
      "[0, 1, 1, 1, 0, 0, 0, 1, 1, 1, 1, 1, 0, 1, 1]\n"
     ]
    }
   ],
   "source": [
    "print patterns['binaries']['stockton']\n",
    "print patterns['binaries']['detroit']"
   ]
  },
  {
   "cell_type": "code",
   "execution_count": 273,
   "metadata": {
    "collapsed": false
   },
   "outputs": [
    {
     "data": {
      "text/html": [
       "<div>\n",
       "<table border=\"1\" class=\"dataframe\">\n",
       "  <thead>\n",
       "    <tr style=\"text-align: right;\">\n",
       "      <th></th>\n",
       "      <th>year</th>\n",
       "      <th>state</th>\n",
       "      <th>county</th>\n",
       "      <th>loan_average_app</th>\n",
       "      <th>income_average_app</th>\n",
       "      <th>count_app</th>\n",
       "      <th>value_app</th>\n",
       "      <th>fips</th>\n",
       "      <th>income_multiple</th>\n",
       "      <th>loan_avg_app_delta</th>\n",
       "      <th>income_average_app_delta</th>\n",
       "      <th>count_app_delta</th>\n",
       "      <th>value_app_delta</th>\n",
       "      <th>income_mult_delta</th>\n",
       "    </tr>\n",
       "  </thead>\n",
       "  <tbody>\n",
       "    <tr>\n",
       "      <th>0</th>\n",
       "      <td>2000</td>\n",
       "      <td>6</td>\n",
       "      <td>77</td>\n",
       "      <td>122.94</td>\n",
       "      <td>74.85</td>\n",
       "      <td>30334</td>\n",
       "      <td>3729384</td>\n",
       "      <td>6077</td>\n",
       "      <td>2.053106</td>\n",
       "      <td>NaN</td>\n",
       "      <td>NaN</td>\n",
       "      <td>NaN</td>\n",
       "      <td>NaN</td>\n",
       "      <td>NaN</td>\n",
       "    </tr>\n",
       "    <tr>\n",
       "      <th>1</th>\n",
       "      <td>2001</td>\n",
       "      <td>6</td>\n",
       "      <td>77</td>\n",
       "      <td>154.89</td>\n",
       "      <td>80.01</td>\n",
       "      <td>60126</td>\n",
       "      <td>9312760</td>\n",
       "      <td>6077</td>\n",
       "      <td>2.419854</td>\n",
       "      <td>25.988287</td>\n",
       "      <td>6.893788</td>\n",
       "      <td>98.213226</td>\n",
       "      <td>1.497131</td>\n",
       "      <td>17.863058</td>\n",
       "    </tr>\n",
       "    <tr>\n",
       "      <th>2</th>\n",
       "      <td>2002</td>\n",
       "      <td>6</td>\n",
       "      <td>77</td>\n",
       "      <td>166.96</td>\n",
       "      <td>84.15</td>\n",
       "      <td>71663</td>\n",
       "      <td>11964989</td>\n",
       "      <td>6077</td>\n",
       "      <td>2.480095</td>\n",
       "      <td>7.792627</td>\n",
       "      <td>5.174353</td>\n",
       "      <td>19.188038</td>\n",
       "      <td>0.284795</td>\n",
       "      <td>2.489460</td>\n",
       "    </tr>\n",
       "    <tr>\n",
       "      <th>3</th>\n",
       "      <td>2003</td>\n",
       "      <td>6</td>\n",
       "      <td>77</td>\n",
       "      <td>182.89</td>\n",
       "      <td>84.88</td>\n",
       "      <td>105793</td>\n",
       "      <td>19348582</td>\n",
       "      <td>6077</td>\n",
       "      <td>2.693361</td>\n",
       "      <td>9.541207</td>\n",
       "      <td>0.867499</td>\n",
       "      <td>47.625692</td>\n",
       "      <td>0.617100</td>\n",
       "      <td>8.599112</td>\n",
       "    </tr>\n",
       "    <tr>\n",
       "      <th>4</th>\n",
       "      <td>2004</td>\n",
       "      <td>6</td>\n",
       "      <td>77</td>\n",
       "      <td>219.60</td>\n",
       "      <td>89.55</td>\n",
       "      <td>105497</td>\n",
       "      <td>23167540</td>\n",
       "      <td>6077</td>\n",
       "      <td>3.065327</td>\n",
       "      <td>20.072175</td>\n",
       "      <td>5.501885</td>\n",
       "      <td>-0.279792</td>\n",
       "      <td>0.197377</td>\n",
       "      <td>13.810454</td>\n",
       "    </tr>\n",
       "    <tr>\n",
       "      <th>5</th>\n",
       "      <td>2005</td>\n",
       "      <td>6</td>\n",
       "      <td>77</td>\n",
       "      <td>268.32</td>\n",
       "      <td>102.33</td>\n",
       "      <td>119885</td>\n",
       "      <td>32167672</td>\n",
       "      <td>6077</td>\n",
       "      <td>3.277631</td>\n",
       "      <td>22.185792</td>\n",
       "      <td>14.271357</td>\n",
       "      <td>13.638303</td>\n",
       "      <td>0.388480</td>\n",
       "      <td>6.926001</td>\n",
       "    </tr>\n",
       "    <tr>\n",
       "      <th>6</th>\n",
       "      <td>2006</td>\n",
       "      <td>6</td>\n",
       "      <td>77</td>\n",
       "      <td>284.29</td>\n",
       "      <td>119.02</td>\n",
       "      <td>96789</td>\n",
       "      <td>27516163</td>\n",
       "      <td>6077</td>\n",
       "      <td>2.985738</td>\n",
       "      <td>5.951849</td>\n",
       "      <td>16.309978</td>\n",
       "      <td>-19.265129</td>\n",
       "      <td>-0.144602</td>\n",
       "      <td>-8.905624</td>\n",
       "    </tr>\n",
       "    <tr>\n",
       "      <th>7</th>\n",
       "      <td>2007</td>\n",
       "      <td>6</td>\n",
       "      <td>77</td>\n",
       "      <td>289.98</td>\n",
       "      <td>121.24</td>\n",
       "      <td>61769</td>\n",
       "      <td>17912039</td>\n",
       "      <td>6077</td>\n",
       "      <td>2.989731</td>\n",
       "      <td>2.001477</td>\n",
       "      <td>1.865233</td>\n",
       "      <td>-36.181798</td>\n",
       "      <td>-0.349036</td>\n",
       "      <td>0.133750</td>\n",
       "    </tr>\n",
       "    <tr>\n",
       "      <th>8</th>\n",
       "      <td>2008</td>\n",
       "      <td>6</td>\n",
       "      <td>77</td>\n",
       "      <td>229.98</td>\n",
       "      <td>108.53</td>\n",
       "      <td>100804</td>\n",
       "      <td>23182808</td>\n",
       "      <td>6077</td>\n",
       "      <td>2.648807</td>\n",
       "      <td>-20.691082</td>\n",
       "      <td>-10.483339</td>\n",
       "      <td>63.195130</td>\n",
       "      <td>0.294258</td>\n",
       "      <td>-11.403177</td>\n",
       "    </tr>\n",
       "    <tr>\n",
       "      <th>9</th>\n",
       "      <td>2009</td>\n",
       "      <td>6</td>\n",
       "      <td>77</td>\n",
       "      <td>192.57</td>\n",
       "      <td>100.24</td>\n",
       "      <td>17620</td>\n",
       "      <td>3393022</td>\n",
       "      <td>6077</td>\n",
       "      <td>2.401362</td>\n",
       "      <td>-16.266632</td>\n",
       "      <td>-7.638441</td>\n",
       "      <td>-82.520535</td>\n",
       "      <td>-0.853641</td>\n",
       "      <td>-9.341755</td>\n",
       "    </tr>\n",
       "    <tr>\n",
       "      <th>10</th>\n",
       "      <td>2010</td>\n",
       "      <td>6</td>\n",
       "      <td>77</td>\n",
       "      <td>191.85</td>\n",
       "      <td>106.57</td>\n",
       "      <td>15074</td>\n",
       "      <td>2891951</td>\n",
       "      <td>6077</td>\n",
       "      <td>2.250282</td>\n",
       "      <td>-0.373890</td>\n",
       "      <td>6.314844</td>\n",
       "      <td>-14.449489</td>\n",
       "      <td>-0.147677</td>\n",
       "      <td>-6.291440</td>\n",
       "    </tr>\n",
       "    <tr>\n",
       "      <th>11</th>\n",
       "      <td>2011</td>\n",
       "      <td>6</td>\n",
       "      <td>77</td>\n",
       "      <td>181.90</td>\n",
       "      <td>108.02</td>\n",
       "      <td>14492</td>\n",
       "      <td>2636029</td>\n",
       "      <td>6077</td>\n",
       "      <td>2.104934</td>\n",
       "      <td>-5.186343</td>\n",
       "      <td>1.360608</td>\n",
       "      <td>-3.860953</td>\n",
       "      <td>-0.088495</td>\n",
       "      <td>-6.459069</td>\n",
       "    </tr>\n",
       "    <tr>\n",
       "      <th>12</th>\n",
       "      <td>2012</td>\n",
       "      <td>6</td>\n",
       "      <td>77</td>\n",
       "      <td>2.91</td>\n",
       "      <td>106.37</td>\n",
       "      <td>24526</td>\n",
       "      <td>71382</td>\n",
       "      <td>6077</td>\n",
       "      <td>0.034197</td>\n",
       "      <td>-98.400220</td>\n",
       "      <td>-1.527495</td>\n",
       "      <td>69.238200</td>\n",
       "      <td>-0.972921</td>\n",
       "      <td>-98.375404</td>\n",
       "    </tr>\n",
       "    <tr>\n",
       "      <th>13</th>\n",
       "      <td>2013</td>\n",
       "      <td>6</td>\n",
       "      <td>77</td>\n",
       "      <td>201.69</td>\n",
       "      <td>103.85</td>\n",
       "      <td>24045</td>\n",
       "      <td>4849575</td>\n",
       "      <td>6077</td>\n",
       "      <td>2.427660</td>\n",
       "      <td>6830.927835</td>\n",
       "      <td>-2.369089</td>\n",
       "      <td>-1.961184</td>\n",
       "      <td>66.938346</td>\n",
       "      <td>6999.112121</td>\n",
       "    </tr>\n",
       "    <tr>\n",
       "      <th>14</th>\n",
       "      <td>2014</td>\n",
       "      <td>6</td>\n",
       "      <td>77</td>\n",
       "      <td>227.44</td>\n",
       "      <td>103.43</td>\n",
       "      <td>16787</td>\n",
       "      <td>3818014</td>\n",
       "      <td>6077</td>\n",
       "      <td>2.748719</td>\n",
       "      <td>12.767118</td>\n",
       "      <td>-0.404429</td>\n",
       "      <td>-30.185070</td>\n",
       "      <td>-0.212712</td>\n",
       "      <td>13.225033</td>\n",
       "    </tr>\n",
       "  </tbody>\n",
       "</table>\n",
       "</div>"
      ],
      "text/plain": [
       "    year  state  county  loan_average_app  income_average_app  count_app  \\\n",
       "0   2000      6      77            122.94               74.85      30334   \n",
       "1   2001      6      77            154.89               80.01      60126   \n",
       "2   2002      6      77            166.96               84.15      71663   \n",
       "3   2003      6      77            182.89               84.88     105793   \n",
       "4   2004      6      77            219.60               89.55     105497   \n",
       "5   2005      6      77            268.32              102.33     119885   \n",
       "6   2006      6      77            284.29              119.02      96789   \n",
       "7   2007      6      77            289.98              121.24      61769   \n",
       "8   2008      6      77            229.98              108.53     100804   \n",
       "9   2009      6      77            192.57              100.24      17620   \n",
       "10  2010      6      77            191.85              106.57      15074   \n",
       "11  2011      6      77            181.90              108.02      14492   \n",
       "12  2012      6      77              2.91              106.37      24526   \n",
       "13  2013      6      77            201.69              103.85      24045   \n",
       "14  2014      6      77            227.44              103.43      16787   \n",
       "\n",
       "    value_app  fips  income_multiple  loan_avg_app_delta  \\\n",
       "0     3729384  6077         2.053106                 NaN   \n",
       "1     9312760  6077         2.419854           25.988287   \n",
       "2    11964989  6077         2.480095            7.792627   \n",
       "3    19348582  6077         2.693361            9.541207   \n",
       "4    23167540  6077         3.065327           20.072175   \n",
       "5    32167672  6077         3.277631           22.185792   \n",
       "6    27516163  6077         2.985738            5.951849   \n",
       "7    17912039  6077         2.989731            2.001477   \n",
       "8    23182808  6077         2.648807          -20.691082   \n",
       "9     3393022  6077         2.401362          -16.266632   \n",
       "10    2891951  6077         2.250282           -0.373890   \n",
       "11    2636029  6077         2.104934           -5.186343   \n",
       "12      71382  6077         0.034197          -98.400220   \n",
       "13    4849575  6077         2.427660         6830.927835   \n",
       "14    3818014  6077         2.748719           12.767118   \n",
       "\n",
       "    income_average_app_delta  count_app_delta  value_app_delta  \\\n",
       "0                        NaN              NaN              NaN   \n",
       "1                   6.893788        98.213226         1.497131   \n",
       "2                   5.174353        19.188038         0.284795   \n",
       "3                   0.867499        47.625692         0.617100   \n",
       "4                   5.501885        -0.279792         0.197377   \n",
       "5                  14.271357        13.638303         0.388480   \n",
       "6                  16.309978       -19.265129        -0.144602   \n",
       "7                   1.865233       -36.181798        -0.349036   \n",
       "8                 -10.483339        63.195130         0.294258   \n",
       "9                  -7.638441       -82.520535        -0.853641   \n",
       "10                  6.314844       -14.449489        -0.147677   \n",
       "11                  1.360608        -3.860953        -0.088495   \n",
       "12                 -1.527495        69.238200        -0.972921   \n",
       "13                 -2.369089        -1.961184        66.938346   \n",
       "14                 -0.404429       -30.185070        -0.212712   \n",
       "\n",
       "    income_mult_delta  \n",
       "0                 NaN  \n",
       "1           17.863058  \n",
       "2            2.489460  \n",
       "3            8.599112  \n",
       "4           13.810454  \n",
       "5            6.926001  \n",
       "6           -8.905624  \n",
       "7            0.133750  \n",
       "8          -11.403177  \n",
       "9           -9.341755  \n",
       "10          -6.291440  \n",
       "11          -6.459069  \n",
       "12         -98.375404  \n",
       "13        6999.112121  \n",
       "14          13.225033  "
      ]
     },
     "execution_count": 273,
     "metadata": {},
     "output_type": "execute_result"
    }
   ],
   "source": [
    "#create boom bust recovery pattern\n",
    "#2000 - 2007 is boom: threshold is gain of 40% or more\n",
    "#2007 - 2009 is crash: threshold is loss of 30% or more \n",
    "#2009 - 2014 is recovery: threshold is increase of less than 20%\n",
    "\n",
    "stockton_df"
   ]
  },
  {
   "cell_type": "code",
   "execution_count": 274,
   "metadata": {
    "collapsed": false
   },
   "outputs": [
    {
     "name": "stdout",
     "output_type": "stream",
     "text": [
      "0.424715205547\n",
      "1.35871156662\n",
      "{'county': '06077', 'bbr': [1.3587115666178626]}\n"
     ]
    }
   ],
   "source": [
    "#create 'vulnerable area patterns' for testing\n",
    "path_detroit = \"data/26/26163/\"\n",
    "#detroit_df = pd.read_csv(path + \"data.csv\")\n",
    "path_stockton = \"data/06/06077/\"\n",
    "#stockton_df = pd.read_csv(path + \"data.csv\")\n",
    "df_list = [path_detroit, path_stockton] #list of counties to process\n",
    "\n",
    "#FIXME to .iloc\n",
    "\n",
    "\n",
    "for path in df_list:\n",
    "\n",
    "    df_pattern = {}\n",
    "    df_pattern['county'] = str(path[len(path)-6:])[:-1]\n",
    "    df_pattern['bbr']= []\n",
    "    df = pd.read_csv(path + \"data.csv\")\n",
    "    boom_start = df.loc[0, 'loan_average_app']\n",
    "    boom_end = df.loc[7, 'loan_average_app']\n",
    "    delta = (boom_end - boom_start)/boom_start\n",
    "    df_pattern['bbr'].append(delta)\n",
    "    #write pattern to JSON\n",
    "    print delta\n",
    "print df_pattern"
   ]
  },
  {
   "cell_type": "code",
   "execution_count": 275,
   "metadata": {
    "collapsed": false
   },
   "outputs": [
    {
     "data": {
      "text/plain": [
       "{'boom_years': {2000: 0, 2007: 7},\n",
       " 'bust_years': {2007: 7, 2009: 9},\n",
       " 'columns_to_calc': {},\n",
       " 'recovery_years': {2009: 9, 2014: 14}}"
      ]
     },
     "execution_count": 275,
     "metadata": {},
     "output_type": "execute_result"
    }
   ],
   "source": [
    "bbr_calc_dict = {}\n",
    "bbr_calc_dict['boom_years'] = {2000: \"\", 2007: \"\"} #set dict for index locations of boom years in dataframes\n",
    "bbr_calc_dict['bust_years'] = {2007: \"\", 2009: \"\"}\n",
    "bbr_calc_dict['recovery_years'] = {2009: \"\", 2014: \"\"}\n",
    "\n",
    "#\n",
    "#df.index.get_loc(label)\n",
    "#print type(bbr_calc_dict['boom_years'][2000])\n",
    "\n",
    "category_list = [cat for cat in bbr_calc_dict.iterkeys()]\n",
    "for cat in category_list:\n",
    "    for  year in bbr_calc_dict[cat].iterkeys():\n",
    "        bbr_calc_dict[cat][year]= detroit_df.year[detroit_df.year == year].index[0]\n",
    "\n",
    "bbr_calc_dict['columns_to_calc'] = {}      \n",
    "bbr_calc_dict"
   ]
  },
  {
   "cell_type": "code",
   "execution_count": 276,
   "metadata": {
    "collapsed": false
   },
   "outputs": [
    {
     "name": "stdout",
     "output_type": "stream",
     "text": [
      "['loan_average_app', 'income_average_app', 'count_app', 'value_app', 'income_multiple']\n"
     ]
    }
   ],
   "source": [
    "patterns['bbr'] = {}\n",
    "#print stockton_df.columns.ravel()\n",
    "\n",
    "col_list = ['loan_average_app', 'income_average_app', 'count_app', 'value_app', 'income_multiple']\n",
    "for col in col_list:\n",
    "    bbr_calc_dict['columns_to_calc'][col] = stockton_df.columns.get_loc(col)\n",
    "print col_list\n",
    "#for col in col_list:\n",
    " #   print stockton_df[(stockton_df.year==2001)][col].index[0]"
   ]
  },
  {
   "cell_type": "code",
   "execution_count": 277,
   "metadata": {
    "collapsed": false
   },
   "outputs": [],
   "source": [
    "#calculate rate of change in a county for boom, bust, recovery\n",
    "#calculate for multiple columns and store patterns\n",
    "#recovery_years is row index, columns_to_calc is column index\n",
    "#print bbr_calc_dict['recovery_years'][2009], bbr_calc_dict['columns_to_calc']['loan_average_app']\n",
    "#calculate recovery deltas\n",
    "for column in bbr_calc_dict['columns_to_calc'].iterkeys():\n",
    "    patterns['bbr'][column] = {}\n",
    "\n",
    "\n",
    "    start_row = bbr_calc_dict['recovery_years'][2009] #returns integer index of year\n",
    "    end_row = bbr_calc_dict['recovery_years'][2014]\n",
    "    col = bbr_calc_dict['columns_to_calc'][column] #returns integer index of column label\n",
    "\n",
    "    start_val = stockton_df.iloc[start_row, col]\n",
    "    end_val = stockton_df.iloc[end_row, col]\n",
    "    delta = ((end_val - start_val) / start_val *100) #check the validity of absolute value usage.\n",
    "    patterns['bbr'][column]['recovery'] = delta\n",
    "    #print \"rows:\",start_row,end_row, \"col:\",col, column\n",
    "    #print end_val, start_val, end_val - start_val, delta\n",
    "#calculate boom deltas\n",
    "for column in bbr_calc_dict['columns_to_calc'].iterkeys():\n",
    "\n",
    "    start_row = bbr_calc_dict['boom_years'][2000]\n",
    "    end_row = bbr_calc_dict['boom_years'][2007]\n",
    "    col = bbr_calc_dict['columns_to_calc'][column]\n",
    "    \n",
    "    start_val = stockton_df.iloc[start_row, col]\n",
    "    end_val = stockton_df.iloc[end_row, col]\n",
    "    delta = ((end_val - start_val) / start_val *100) #check the validity of absolute value usage.\n",
    "    patterns['bbr'][column]['boom'] = delta\n",
    "    \n",
    "for column in bbr_calc_dict['columns_to_calc'].iterkeys():\n",
    "\n",
    "    start_row = bbr_calc_dict['bust_years'][2007]\n",
    "    end_row = bbr_calc_dict['bust_years'][2009]\n",
    "    col = bbr_calc_dict['columns_to_calc'][column]\n",
    "    \n",
    "    start_val = stockton_df.iloc[start_row, col]\n",
    "    end_val = stockton_df.iloc[end_row, col]\n",
    "    delta = ((end_val - start_val) / start_val *100) #check the validity of absolute value usage.\n",
    "    patterns['bbr'][column]['bust'] = delta\n",
    "    \n",
    "\n"
   ]
  },
  {
   "cell_type": "code",
   "execution_count": 278,
   "metadata": {
    "collapsed": false
   },
   "outputs": [
    {
     "data": {
      "text/plain": [
       "{'bbr': {'count_app': {'boom': 103.62959055844927,\n",
       "   'bust': -71.474364163253412,\n",
       "   'recovery': -4.7275822928490348},\n",
       "  'income_average_app': {'boom': 61.977287909151649,\n",
       "   'bust': -17.321016166281755,\n",
       "   'recovery': 3.1823623304070354},\n",
       "  'income_multiple': {'boom': 45.619895052384955,\n",
       "   'bust': -19.679675462115185,\n",
       "   'recovery': 14.465009744443785},\n",
       "  'loan_average_app': {'boom': 135.87115666178627,\n",
       "   'bust': -33.59197186012829,\n",
       "   'recovery': 18.107701095705462},\n",
       "  'value_app': {'boom': 380.29484225813167,\n",
       "   'bust': -81.057310114163997,\n",
       "   'recovery': 12.525471393937321}},\n",
       " 'binaries': {'detroit': [0, 1, 1, 1, 0, 0, 0, 1, 1, 1, 1, 1, 0, 1, 1],\n",
       "  'stockton': [0, 1, 1, 1, 1, 1, 1, 1, 0, 0, 0, 0, 0, 1, 1]}}"
      ]
     },
     "execution_count": 278,
     "metadata": {},
     "output_type": "execute_result"
    }
   ],
   "source": [
    "patterns\n",
    "\n",
    "#stockton_df"
   ]
  },
  {
   "cell_type": "code",
   "execution_count": 279,
   "metadata": {
    "collapsed": false
   },
   "outputs": [
    {
     "data": {
      "image/png": "[encoded data removed]",
      "text/plain": [
       "<matplotlib.figure.Figure at 0x118092f10>"
      ]
     },
     "metadata": {},
     "output_type": "display_data"
    },
    {
     "data": {
      "image/png": "[encoded data removed]",
      "text/plain": [
       "<matplotlib.figure.Figure at 0x1187c3210>"
      ]
     },
     "metadata": {},
     "output_type": "display_data"
    },
    {
     "data": {
      "image/png": "[encoded data removed]",
      "text/plain": [
       "<matplotlib.figure.Figure at 0x118fc4150>"
      ]
     },
     "metadata": {},
     "output_type": "display_data"
    },
    {
     "data": {
      "image/png": "[encoded data removed]",
      "text/plain": [
       "<matplotlib.figure.Figure at 0x11a6e3910>"
      ]
     },
     "metadata": {},
     "output_type": "display_data"
    },
    {
     "data": {
      "image/png": "[encoded data removed]",
      "text/plain": [
       "<matplotlib.figure.Figure at 0x118f8b790>"
      ]
     },
     "metadata": {},
     "output_type": "display_data"
    }
   ],
   "source": [
    "bbr_df = pd.DataFrame(patterns['bbr'])\n",
    "for col in bbr_df.columns.ravel():\n",
    "    \n",
    "    bbr_df.plot.bar(y=col)"
   ]
  },
  {
   "cell_type": "code",
   "execution_count": null,
   "metadata": {
    "collapsed": false
   },
   "outputs": [],
   "source": []
  },
  {
   "cell_type": "code",
   "execution_count": null,
   "metadata": {
    "collapsed": true
   },
   "outputs": [],
   "source": []
  }
 ],
 "metadata": {
  "kernelspec": {
   "display_name": "Python 2",
   "language": "python",
   "name": "python2"
  },
  "language_info": {
   "codemirror_mode": {
    "name": "ipython",
    "version": 2
   },
   "file_extension": ".py",
   "mimetype": "text/x-python",
   "name": "python",
   "nbconvert_exporter": "python",
   "pygments_lexer": "ipython2",
   "version": "2.7.10"
  }
 },
 "nbformat": 4,
 "nbformat_minor": 0
}
