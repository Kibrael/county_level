{
 "cells": [
  {
   "cell_type": "code",
   "execution_count": 1,
   "metadata": {
    "collapsed": false
   },
   "outputs": [
    {
     "name": "stdout",
     "output_type": "stream",
     "text": [
      "i'm connected\n"
     ]
    }
   ],
   "source": [
    "import pandas as pd\n",
    "import psycopg2\n",
    "import matplotlib\n",
    "import numpy as np\n",
    "from connector import connect_DB #import custom connection script\n",
    "#get county level data\n",
    "#count of loans\n",
    "#average and median dollar value of loans\n",
    "#dollar volume of loan amount\n",
    "connector = connect_DB() #instantiate connector class\n",
    "cur = connector.connect() #connect and return connection\n",
    "\n",
    "#list of HMDA years to use\n",
    "#property type appears in 2004\n",
    "#FIXME reload and clean 2004\n",
    "#FIXME: add property type into 2004 and beyond?\n",
    "hmda_tables = ['hmdalar2000', 'hmdalar2001', 'hmdalar2002', 'hmdalar2003', 'hmdalar2004', 'hmdalar2005', 'hmdalar2006',\n",
    "\t\t'hmdalar2007', 'hmdalar2008', 'hmdalar2009', 'hmdalar2010', 'hmdalar2011', 'hmdalar2012', 'hmdalar2013', 'hmdalar2014']\n",
    "\n",
    "\n",
    "\n"
   ]
  },
  {
   "cell_type": "code",
   "execution_count": 3,
   "metadata": {
    "collapsed": false
   },
   "outputs": [
    {
     "ename": "IndentationError",
     "evalue": "expected an indented block (<ipython-input-3-25c07bfe4e48>, line 27)",
     "output_type": "error",
     "traceback": [
      "\u001b[0;36m  File \u001b[0;32m\"<ipython-input-3-25c07bfe4e48>\"\u001b[0;36m, line \u001b[0;32m27\u001b[0m\n\u001b[0;31m    out_file = pd.DataFrame(data)\u001b[0m\n\u001b[0m           ^\u001b[0m\n\u001b[0;31mIndentationError\u001b[0m\u001b[0;31m:\u001b[0m expected an indented block\n"
     ]
    }
   ],
   "source": [
    "#selects application information for single family homes\n",
    "first = True\n",
    "for table in hmda_tables[14:]:\n",
    "\n",
    "\tSQL = \"\"\"\n",
    "\t\tSELECT year, state, county,\n",
    "\t\tround(avg(amount::integer),2) as loan_average,\n",
    "\t\tround(avg(income::integer),2) as income_average,\n",
    "\t\tcount(concat(agency, rid)) as count_of_apps,\n",
    "\t\tsum(amount::integer) as app_volume\n",
    "\t\tFROM {table}\n",
    "\t\tWHERE loan_type = '1'\n",
    "\t\tAND loan_purpose in ('1', '3')\n",
    "\t\t\n",
    "\t\tAND income not like '%NA%'\n",
    "\t\tAND income not like '%na% '\n",
    "\t\tAND amount not like '%NA%'\n",
    "\t\tAND amount not like '%na%'\n",
    "\n",
    "\t\tGROUP BY state, county, year \"\"\"\n",
    "\n",
    "\tSQL = SQL.format(table=table, type='1')\n",
    "\tcur.execute(SQL)\n",
    "    \n",
    "\tdata = cur.fetchall() #retrieve data from query\n",
    "\tif first:\n",
    "        out_file = pd.DataFrame(data)\n",
    "\t\n",
    "    for row in data:\n",
    "\t\tprint row\n",
    "\t#print table, \"\\n\", SQL, \"\\n\\n\"\n",
    "\n",
    "\n",
    "\n"
   ]
  },
  {
   "cell_type": "code",
   "execution_count": null,
   "metadata": {
    "collapsed": true
   },
   "outputs": [],
   "source": [
    "#selects originated loan information for single family homes\n",
    "for table in hmda_tables:\n",
    "\tSQL = \"\"\"\n",
    "\t\tSELECT year, state, county,\n",
    "\t\tround(avg(amount::integer),2) as loan_average,\n",
    "\t\tround(avg(income::integer),2) as income_average,\n",
    "\t\tcount(concat(agency, rid)) as count_of_apps,\n",
    "\t\tsum(amout::integer) as app_volume\n",
    "\t\tFROM {table}\n",
    "\t\tWHERE loan_type = '1'\n",
    "\t\tAND loan_purpose in ('1', '3')\n",
    "\t\tAND property_type = '{type}''\n",
    "\t\tAND income not like '%NA%'\n",
    "\t\tAND income not like '%na% '\n",
    "\t\tAND amount not like '%NA%'\n",
    "\t\tAND amount not like '%na%'\n",
    "\t\tAND action = '1'\n",
    "\t\tGROUP BY state, county, year \"\"\"\n",
    "\n",
    "\tSQL = SQL.format(table=table, type='1')\n",
    "#drop table if exists\n",
    "#create table to hold data\n",
    "#insert data"
   ]
  }
 ],
 "metadata": {
  "kernelspec": {
   "display_name": "Python 2",
   "language": "python",
   "name": "python2"
  },
  "language_info": {
   "codemirror_mode": {
    "name": "ipython",
    "version": 2
   },
   "file_extension": ".py",
   "mimetype": "text/x-python",
   "name": "python",
   "nbconvert_exporter": "python",
   "pygments_lexer": "ipython2",
   "version": "2.7.10"
  }
 },
 "nbformat": 4,
 "nbformat_minor": 0
}
