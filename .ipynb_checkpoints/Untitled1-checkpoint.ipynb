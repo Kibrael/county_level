{
 "cells": [
  {
   "cell_type": "code",
   "execution_count": 2,
   "metadata": {
    "collapsed": false
   },
   "outputs": [],
   "source": [
    "import pandas as pd\n",
    "import psycopg2\n",
    "\n",
    "import numpy as np\n",
    "import os\n",
    "\n",
    "conn = psycopg2.connect(\"dbname=hmdamaster user=roellk\") #connect and return connection\n",
    "cur = conn.cursor()\n",
    "\n",
    "#property type appears in 2004\n",
    "#FIXME reload and clean 2004\n",
    "\n",
    "#set names of PostGRES HMDA data tables\n",
    "#App and Orig tables are aggregates from the LAR tables\n",
    "\n",
    "hmda_app_tables = ['county_apps_2000','county_apps_2001','county_apps_2002','county_apps_2003','county_apps_2004','county_apps_2005',\n",
    "                  'county_apps_2006','county_apps_2007','county_apps_2008','county_apps_2009','county_apps_2010','county_apps_2011',\n",
    "                  'county_apps_2012','county_apps_2013','county_apps_2014']\n",
    "\n",
    "hmda_orig_tables = ['county_orig_2000','county_orig_2001','county_orig_2002','county_orig_2003','county_orig_2004','county_orig_2005',\n",
    "                  'county_orig_2006','county_orig_2007','county_orig_2008','county_orig_2009','county_orig_2010','county_orig_2011',\n",
    "                  'county_orig_2012','county_orig_2013','county_orig_2014']\n",
    "\n",
    "hmda_lar_tables = ['hmdalar2000','hmdalar2001','hmdalar2002','hmdalar2003','hmdalar2004','hmdalar2005','hmdalar2006','hmdalar2007',\n",
    "                  'hmdalar2008','hmdalar2009','hmdalar2010','hmdalar2011','hmdalar2012','hmdalar2013','hmdalar2014']\n",
    "\n",
    "\n",
    "#count of loans\n",
    "#average and median dollar value of loans\n",
    "#loan value distribution measure\n",
    "#dollar volume of loan amount\n",
    "#demographic count, value, origination rates\n",
    "#income change\n",
    "#compare income change to value change in loan amount"
   ]
  },
  {
   "cell_type": "code",
   "execution_count": 12,
   "metadata": {
    "collapsed": false
   },
   "outputs": [],
   "source": [
    "#load tract to CBSA file to get valid counties\n",
    "cbsa_df = pd.read_csv('tract_to_CBSA_2010.csv', sep='|')\n",
    "cbsa_df.county = cbsa_df.county.map(lambda x: str(x).zfill(5)) #left pad with 0's to make valid FIPS codes\n",
    "fips_list = set(cbsa_df.county.ravel()) #remove duplicates\n",
    "\n"
   ]
  },
  {
   "cell_type": "code",
   "execution_count": null,
   "metadata": {
    "collapsed": true
   },
   "outputs": [],
   "source": []
  }
 ],
 "metadata": {
  "kernelspec": {
   "display_name": "Python 3",
   "language": "python",
   "name": "python3"
  },
  "language_info": {
   "codemirror_mode": {
    "name": "ipython",
    "version": 3
   },
   "file_extension": ".py",
   "mimetype": "text/x-python",
   "name": "python",
   "nbconvert_exporter": "python",
   "pygments_lexer": "ipython3",
   "version": "3.5.1"
  }
 },
 "nbformat": 4,
 "nbformat_minor": 0
}
