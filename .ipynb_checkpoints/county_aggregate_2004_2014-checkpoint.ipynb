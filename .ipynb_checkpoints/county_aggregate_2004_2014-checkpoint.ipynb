{
 "cells": [
  {
   "cell_type": "code",
   "execution_count": null,
   "metadata": {
    "collapsed": true
   },
   "outputs": [],
   "source": [
    "import pandas as pd\n",
    "import psycopg2\n",
    "import matplotlib\n",
    "import numpy as np\n",
    "#from connect import connect_DB #import custom connection script\n",
    "\n",
    "#connector = connect_DB() #instantiate connector class\n",
    "conn = psycopg2.connect(\"dbname=hmdamaster user=roellk\") #connect and return connection\n",
    "cur = conn.cursor()\n",
    "\n",
    "#property type appears in 2004\n",
    "#FIXME reload and clean 2004\n",
    "\n",
    "\n",
    "hmda_app_tables = ['county_apps_2000','county_apps_2001','county_apps_2002','county_apps_2003','county_apps_2004','county_apps_2005',\n",
    "                  'county_apps_2006','county_apps_2007','county_apps_2008','county_apps_2009','county_apps_2010','county_apps_2011',\n",
    "                  'county_apps_2012','county_apps_2013','county_apps_2014']\n",
    "\n",
    "hmda_orig_tables = ['county_orig_2000','county_orig_2001','county_orig_2002','county_orig_2003','county_orig_2004','county_orig_2005',\n",
    "                  'county_orig_2006','county_orig_2007','county_orig_2008','county_orig_2009','county_orig_2010','county_orig_2011',\n",
    "                  'county_orig_2012','county_orig_2013','county_orig_2014']\n",
    "#get county level data\n",
    "#count of loans\n",
    "#average and median dollar value of loans\n",
    "#dollar volume of loan amount\n",
    "\n"
   ]
  },
  {
   "cell_type": "code",
   "execution_count": null,
   "metadata": {
    "collapsed": true
   },
   "outputs": [],
   "source": []
  },
  {
   "cell_type": "code",
   "execution_count": 1,
   "metadata": {
    "collapsed": false
   },
   "outputs": [
    {
     "ename": "NameError",
     "evalue": "name 'hmda_tables' is not defined",
     "output_type": "error",
     "traceback": [
      "\u001b[0;31m---------------------------------------------------------------------------\u001b[0m",
      "\u001b[0;31mNameError\u001b[0m                                 Traceback (most recent call last)",
      "\u001b[0;32m<ipython-input-1-5af1a7301b8d>\u001b[0m in \u001b[0;36m<module>\u001b[0;34m()\u001b[0m\n\u001b[1;32m      1\u001b[0m \u001b[0;31m#selects originated loan information for single family homes\u001b[0m\u001b[0;34m\u001b[0m\u001b[0;34m\u001b[0m\u001b[0m\n\u001b[1;32m      2\u001b[0m \u001b[0mfirst\u001b[0m \u001b[0;34m=\u001b[0m \u001b[0mTrue\u001b[0m\u001b[0;34m\u001b[0m\u001b[0m\n\u001b[0;32m----> 3\u001b[0;31m \u001b[0;32mfor\u001b[0m \u001b[0mtable\u001b[0m \u001b[0;32min\u001b[0m \u001b[0mhmda_tables\u001b[0m\u001b[0;34m[\u001b[0m\u001b[0;36m4\u001b[0m\u001b[0;34m:\u001b[0m\u001b[0;34m]\u001b[0m\u001b[0;34m:\u001b[0m\u001b[0;34m\u001b[0m\u001b[0m\n\u001b[0m\u001b[1;32m      4\u001b[0m     SQL = \"\"\"\n\u001b[1;32m      5\u001b[0m WITH rates AS (\n",
      "\u001b[0;31mNameError\u001b[0m: name 'hmda_tables' is not defined"
     ]
    }
   ],
   "source": [
    "#selects originated loan information for single family homes\n",
    "first = True\n",
    "for table in hmda_tables[4:]:\n",
    "    SQL = \"\"\"\n",
    "WITH rates AS (\n",
    "    SELECT year, state, county,\n",
    "    CONCAT(state, county) AS fips,\n",
    "    COUNT(rate_spread) AS has_rs,\n",
    "    AVG(rate_spread::NUMERIC) AS avg_rate_spread\n",
    "\n",
    "    FROM {table}\n",
    "    \n",
    "    WHERE loan_type = '1'\n",
    "        AND loan_purpose IN ('1', '3')\n",
    "        AND property_type = '{type}'\n",
    "        AND action = '1'\n",
    "        AND lien = '1'\n",
    "        AND rate_spread != 'NA   '\n",
    "        AND rate_spread != '     '\n",
    "        \n",
    "    GROUP BY year, state, county),\n",
    "\n",
    "rates2 as (\n",
    "    SELECT year, state, county,\n",
    "    CONCAT(state, county) AS fips,\n",
    "    COUNT(rate_spread) AS no_rs\n",
    "    \n",
    "    FROM {table}\n",
    "    \n",
    "    WHERE loan_type = '1'\n",
    "        AND loan_purpose in ('1', '3')\n",
    "        AND property_type = '{type}'\n",
    "        AND action = '1'\n",
    "        AND lien = '1'\n",
    "        AND rate_spread = 'NA   '\n",
    "        \n",
    "GROUP BY year, state, county),\n",
    "\n",
    "county_agg_orig AS (\n",
    "    SELECT year, state, county,\n",
    "    CONCAT(state, county) AS fips,\n",
    "        ROUND(avg(amount::INTEGER),2) AS loan_average,\n",
    "        ROUND(avg(income::INTEGER),2) AS income_average,\n",
    "        COUNT(concat(agency, rid)) AS count_orig,\n",
    "        SUM(amount::INTEGER) AS value_orig,\n",
    "        SUM(income::INTEGER) AS total_income_orig\n",
    "\n",
    "    FROM {table}\n",
    "    \n",
    "    WHERE loan_type = '1'\n",
    "        AND loan_purpose IN ('1', '3')\n",
    "        AND property_type = '{type}'\n",
    "        AND action = '1'\n",
    "        AND lien = '1'\n",
    "        AND rate_spread != '     '\n",
    "        AND income NOT LIKE '%NA%'\n",
    "        AND income NOT LIKE '%na% '\n",
    "        AND income != '    '\n",
    "        AND amount != '     '\n",
    "        AND amount NOT LIKE '%NA%'\n",
    "        AND amount NOT LIKE '%na%'\n",
    "        \n",
    "        GROUP BY state, county, year ),\n",
    "\n",
    "county_agg_apps AS (\n",
    "SELECT year, state, county,\n",
    "        CONCAT(state, county) AS fips,\n",
    "        ROUND(AVG(amount::INTEGER),2) AS loan_average,\n",
    "        ROUND(AVG(income::INTEGER),2) AS income_average,\n",
    "        COUNT(CONCAT(agency, rid)) AS count_app,\n",
    "        SUM(amount::INTEGER) AS value_app,\n",
    "        SUM(income::INTEGER) AS total_income_app\n",
    "        \n",
    "        FROM {table}\n",
    "        \n",
    "        WHERE loan_type = '1'\n",
    "        AND loan_purpose in ('1', '3')\n",
    "        AND property_type = '{type}'\n",
    "        AND action != '1'\n",
    "        AND lien = '1'\n",
    "        AND rate_spread != '     '\n",
    "        AND income not like '%NA%'\n",
    "        AND income not like '%na% '\n",
    "        AND income != '    '\n",
    "        AND amount != '     '\n",
    "        AND amount not like '%NA%'\n",
    "        AND amount not like '%na%'\n",
    "        \n",
    "        GROUP BY state, county, year )\n",
    "        \n",
    "SELECT rates.year, rates.state, rates.county, rates.fips, rates.has_rs, rates2.no_rs, \n",
    "ROUND(rates.avg_rate_spread, 2) AS avg_rs, \n",
    "ROUND(((rates.has_rs::NUMERIC / (rates2.no_rs::NUMERIC + rates.has_rs::NUMERIC))*100),2) AS rs_ratio,\n",
    "county_agg_orig.loan_average, \n",
    "county_agg_orig.income_average, \n",
    "county_agg_orig.count_orig, \n",
    "county_agg_orig.value_orig,\n",
    "ROUND((value_orig::NUMERIC / total_income_orig::NUMERIC),2) AS total_mult_orig,\n",
    "ROUND(((value_app::NUMERIC / 0.80) / total_income_app::NUMERIC),2) AS total_mult_app,\n",
    "ROUND(((county_agg_apps.loan_average::NUMERIC / 0.80) / county_agg_apps.income_average::NUMERIC),2) AS income_multiple_app,\n",
    "ROUND(((county_agg_orig.loan_average::NUMERIC /0.80) / county_agg_orig.income_average::NUMERIC),2) AS income_multiple_orig,\n",
    "\n",
    "county_agg_apps.loan_average AS app_loan_avg,\n",
    "county_agg_apps.income_average AS app_income_avg,\n",
    "county_agg_apps.count_app AS count_apps,\n",
    "county_agg_apps.value_app,\n",
    "ROUND(((county_agg_orig.count_orig::NUMERIC / (county_agg_orig.count_orig::NUMERIC + county_agg_apps.count_app::NUMERIC))*100),2) AS orig_rate\n",
    "\n",
    "\n",
    "FROM rates\n",
    "JOIN rates2\n",
    "ON concat(rates.state, rates.county) = concat(rates2.state, rates2.county)\n",
    "JOIN county_agg_orig\n",
    "ON concat(rates.state, rates.county) = concat(county_agg_orig.state, county_agg_orig.county)\n",
    "JOIN county_agg_apps\n",
    "ON concat(rates.state, rates.county) = concat(county_agg_apps.state, county_agg_apps.county);\n",
    "\"\"\"\n",
    "\n",
    "    SQL = SQL.format(table=table, type='1')\n",
    "    df = pd.read_sql_query(SQL, conn)\n",
    "    if first:\n",
    "        out_file = df\n",
    "        first = False\n",
    "    else:\n",
    "        out_file = pd.concat([out_file,df])\n",
    "    print df.head()\n",
    "out_file.to_csv('county_aggregates_post_2004_v2.csv')\n",
    "#export as single csv for all years\n",
    "#create table to hold data\n",
    "#insert data"
   ]
  },
  {
   "cell_type": "code",
   "execution_count": 2,
   "metadata": {
    "collapsed": false
   },
   "outputs": [
    {
     "ename": "NameError",
     "evalue": "name 'out_file' is not defined",
     "output_type": "error",
     "traceback": [
      "\u001b[0;31m---------------------------------------------------------------------------\u001b[0m",
      "\u001b[0;31mNameError\u001b[0m                                 Traceback (most recent call last)",
      "\u001b[0;32m<ipython-input-2-4ac4dbd87ed0>\u001b[0m in \u001b[0;36m<module>\u001b[0;34m()\u001b[0m\n\u001b[1;32m      1\u001b[0m \u001b[0;34m\u001b[0m\u001b[0m\n\u001b[0;32m----> 2\u001b[0;31m \u001b[0mout_file\u001b[0m\u001b[0;34m[\u001b[0m\u001b[0;34m'fips'\u001b[0m\u001b[0;34m]\u001b[0m \u001b[0;34m=\u001b[0m \u001b[0mout_file\u001b[0m\u001b[0;34m.\u001b[0m\u001b[0mstate\u001b[0m \u001b[0;34m+\u001b[0m \u001b[0mout_file\u001b[0m\u001b[0;34m.\u001b[0m\u001b[0mcounty\u001b[0m\u001b[0;34m\u001b[0m\u001b[0m\n\u001b[0m\u001b[1;32m      3\u001b[0m \u001b[0mout_file\u001b[0m\u001b[0;34m.\u001b[0m\u001b[0mhead\u001b[0m\u001b[0;34m(\u001b[0m\u001b[0;34m)\u001b[0m\u001b[0;34m\u001b[0m\u001b[0m\n",
      "\u001b[0;31mNameError\u001b[0m: name 'out_file' is not defined"
     ]
    }
   ],
   "source": [
    "\n",
    "out_file['fips'] = out_file.state + out_file.county\n",
    "out_file.head()"
   ]
  },
  {
   "cell_type": "code",
   "execution_count": null,
   "metadata": {
    "collapsed": true
   },
   "outputs": [],
   "source": [
    "out_file.groupby('fips').rs_ratio.plot()"
   ]
  }
 ],
 "metadata": {
  "kernelspec": {
   "display_name": "Python 2",
   "language": "python",
   "name": "python2"
  },
  "language_info": {
   "codemirror_mode": {
    "name": "ipython",
    "version": 2
   },
   "file_extension": ".py",
   "mimetype": "text/x-python",
   "name": "python",
   "nbconvert_exporter": "python",
   "pygments_lexer": "ipython2",
   "version": "2.7.10"
  }
 },
 "nbformat": 4,
 "nbformat_minor": 0
}
