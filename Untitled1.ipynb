{
 "cells": [
  {
   "cell_type": "code",
   "execution_count": 13,
   "metadata": {
    "collapsed": false
   },
   "outputs": [],
   "source": [
    "from bokeh.plotting import figure, output_file, show\n",
    "import json\n",
    "import numpy as np\n",
    "import os\n",
    "import pandas as pd\n"
   ]
  },
  {
   "cell_type": "code",
   "execution_count": 14,
   "metadata": {
    "collapsed": false
   },
   "outputs": [],
   "source": [
    "#load tract to CBSA file to get valid counties\n",
    "cbsa_df = pd.read_csv('tract_to_CBSA_2010.csv', sep='|')\n",
    "cbsa_df.county = cbsa_df.county.map(lambda x: str(x).zfill(5)) #left pad with 0's to make valid FIPS codes\n",
    "fips_list = set(cbsa_df.county.ravel()) #remove duplicates\n",
    "\n"
   ]
  },
  {
   "cell_type": "code",
   "execution_count": 19,
   "metadata": {
    "collapsed": false
   },
   "outputs": [],
   "source": [
    "for fips in list(fips_list):\n",
    "    state = fips[:2]\n",
    "    path = \"data/\"+state+\"/\"+fips+\"/\"\n",
    "    county_df = pd.read_csv(path+\"data.csv\")\n",
    "    if county_df.empty:\n",
    "        print(\"empty county df {county}\".format(county=fips))\n"
   ]
  },
  {
   "cell_type": "code",
   "execution_count": 20,
   "metadata": {
    "collapsed": false
   },
   "outputs": [
    {
     "data": {
      "text/plain": [
       "<bound method NDFrame.head of     asian_count_app  asian_count_orig  asian_income_average_app  \\\n",
       "0               7.0               5.0                     56.14   \n",
       "1               6.0               5.0                     84.33   \n",
       "2              10.0               6.0                    175.50   \n",
       "3              16.0              12.0                     68.75   \n",
       "4              22.0               9.0                     80.09   \n",
       "5              23.0              12.0                     75.65   \n",
       "6              19.0              14.0                     71.16   \n",
       "7              18.0               4.0                     92.67   \n",
       "8              52.0              32.0                    123.69   \n",
       "9               8.0               6.0                    199.50   \n",
       "10             15.0               8.0                    174.47   \n",
       "11             10.0               7.0                     78.10   \n",
       "12             17.0              11.0                    230.00   \n",
       "13             10.0               5.0                    107.60   \n",
       "14             17.0               9.0                    123.82   \n",
       "\n",
       "    asian_income_average_orig  asian_loan_average_app  \\\n",
       "0                       47.60                  114.00   \n",
       "1                       95.20                  159.50   \n",
       "2                      175.33                  139.70   \n",
       "3                       71.17                   79.69   \n",
       "4                      137.89                   70.55   \n",
       "5                       79.92                  114.13   \n",
       "6                       75.00                  119.53   \n",
       "7                      148.50                  141.72   \n",
       "8                      141.75                  159.00   \n",
       "9                      234.50                  164.88   \n",
       "10                     235.75                  123.00   \n",
       "11                      75.43                  124.30   \n",
       "12                     324.82                   93.35   \n",
       "13                     132.80                  112.90   \n",
       "14                     114.11                  104.12   \n",
       "\n",
       "    asian_loan_average_orig  asian_value_app  asian_value_orig  \\\n",
       "0                     56.60            798.0             283.0   \n",
       "1                    183.80            957.0             919.0   \n",
       "2                    172.83           1397.0            1037.0   \n",
       "3                     78.00           1275.0             936.0   \n",
       "4                     66.22           1552.0             596.0   \n",
       "5                     78.42           2625.0             941.0   \n",
       "6                    113.14           2271.0            1584.0   \n",
       "7                    186.00           2551.0             744.0   \n",
       "8                    153.00           8268.0            4896.0   \n",
       "9                    164.67           1319.0             988.0   \n",
       "10                    89.13           1845.0             713.0   \n",
       "11                   119.00           1243.0             833.0   \n",
       "12                    91.18           1587.0            1003.0   \n",
       "13                   140.60           1129.0             703.0   \n",
       "14                   101.56           1770.0             914.0   \n",
       "\n",
       "    black_count_app  black_count_orig   ...    value_orig  white_count_app  \\\n",
       "0             742.0             259.0   ...       91688.0           1965.0   \n",
       "1             581.0             239.0   ...      164236.0           2467.0   \n",
       "2             549.0             214.0   ...      167341.0           2416.0   \n",
       "3             690.0             257.0   ...      222598.0           3319.0   \n",
       "4             659.0             231.0   ...      182036.0           2803.0   \n",
       "5             765.0             228.0   ...      154026.0           2529.0   \n",
       "6             819.0             297.0   ...      174193.0           2497.0   \n",
       "7             635.0             238.0   ...      180413.0           2403.0   \n",
       "8            1456.0             476.0   ...      617720.0           7508.0   \n",
       "9             220.0             104.0   ...      150120.0           1760.0   \n",
       "10            171.0              56.0   ...      118070.0           1591.0   \n",
       "11            179.0              71.0   ...      101997.0           1272.0   \n",
       "12            216.0             102.0   ...      131132.0           1449.0   \n",
       "13            227.0              97.0   ...      117980.0           1424.0   \n",
       "14            169.0              67.0   ...       97250.0           1108.0   \n",
       "\n",
       "    white_count_orig  white_income_average_app  white_income_average_orig  \\\n",
       "0              984.0                     52.61                      64.85   \n",
       "1             1614.0                     61.88                      69.46   \n",
       "2             1545.0                     65.84                      73.85   \n",
       "3             2019.0                     71.67                      78.18   \n",
       "4             1692.0                     68.84                      76.80   \n",
       "5             1370.0                     71.03                      82.39   \n",
       "6             1382.0                     75.32                      82.04   \n",
       "7             1320.0                     79.55                      91.67   \n",
       "8             4336.0                     96.80                     112.73   \n",
       "9             1051.0                     98.14                     103.46   \n",
       "10             867.0                     90.22                     100.78   \n",
       "11             743.0                     99.01                     112.31   \n",
       "12             878.0                    105.88                     123.90   \n",
       "13             856.0                    107.02                     124.94   \n",
       "14             685.0                     98.81                     116.76   \n",
       "\n",
       "    white_loan_average_app  white_loan_average_orig  white_value_app  \\\n",
       "0                    61.99                    71.54         121812.0   \n",
       "1                    77.74                    84.18         191779.0   \n",
       "2                    82.47                    86.82         199251.0   \n",
       "3                    89.59                    93.91         297360.0   \n",
       "4                    88.55                    90.50         248214.0   \n",
       "5                    88.91                    94.18         224864.0   \n",
       "6                    99.84                   101.52         249312.0   \n",
       "7                   110.47                   112.71         265448.0   \n",
       "8                   123.77                   126.94         929284.0   \n",
       "9                   132.52                   130.51         233238.0   \n",
       "10                  124.95                   124.76         198797.0   \n",
       "11                  125.17                   124.79         159215.0   \n",
       "12                  129.19                   136.46         187200.0   \n",
       "13                  117.69                   125.49         167586.0   \n",
       "14                  118.90                   129.25         131740.0   \n",
       "\n",
       "    white_value_orig    year  \n",
       "0            70400.0  2000.0  \n",
       "1           135868.0  2001.0  \n",
       "2           134143.0  2002.0  \n",
       "3           189596.0  2003.0  \n",
       "4           153131.0  2004.0  \n",
       "5           129025.0  2005.0  \n",
       "6           140303.0  2006.0  \n",
       "7           148777.0  2007.0  \n",
       "8           550416.0  2008.0  \n",
       "9           137165.0  2009.0  \n",
       "10          108169.0  2010.0  \n",
       "11           92719.0  2011.0  \n",
       "12          119814.0  2012.0  \n",
       "13          107420.0  2013.0  \n",
       "14           88536.0  2014.0  \n",
       "\n",
       "[15 rows x 58 columns]>"
      ]
     },
     "execution_count": 20,
     "metadata": {},
     "output_type": "execute_result"
    }
   ],
   "source": [
    "county_df.head"
   ]
  },
  {
   "cell_type": "code",
   "execution_count": null,
   "metadata": {
    "collapsed": true
   },
   "outputs": [],
   "source": []
  }
 ],
 "metadata": {
  "kernelspec": {
   "display_name": "Python 3",
   "language": "python",
   "name": "python3"
  },
  "language_info": {
   "codemirror_mode": {
    "name": "ipython",
    "version": 3
   },
   "file_extension": ".py",
   "mimetype": "text/x-python",
   "name": "python",
   "nbconvert_exporter": "python",
   "pygments_lexer": "ipython3",
   "version": "3.5.1"
  }
 },
 "nbformat": 4,
 "nbformat_minor": 0
}
